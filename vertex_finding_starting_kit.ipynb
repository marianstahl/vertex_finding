{
 "cells": [
  {
   "cell_type": "markdown",
   "metadata": {},
   "source": [
    "\n",
    "[RAPID2018](https://rapid2018.org/)\n",
    "\n",
    "\n",
    "# [RAMP](https://www.ramp.studio/problems/mars_craters) on Primary Vertex reconstruction\n",
    "\n"
   ]
  },
  {
   "cell_type": "markdown",
   "metadata": {},
   "source": [
    "1. [Introduction](#Introduction)\n",
    "2. [Preprocessing](#Preprocessing)\n",
    "3. [Workflow](#Workflow)\n",
    "4. [Evaluation](#Scoring)\n",
    "5. [Local testing/exploration](#Local-testing)\n",
    "6. [Submission](#Submitting-to-ramp.studio)"
   ]
  },
  {
   "cell_type": "markdown",
   "metadata": {},
   "source": [
    "## Introduction\n"
   ]
  },
  {
   "cell_type": "markdown",
   "metadata": {},
   "source": [
    "### The prediction task\n",
    "\n"
   ]
  },
  {
   "cell_type": "markdown",
   "metadata": {},
   "source": [
    "### References\n",
    "\n"
   ]
  },
  {
   "cell_type": "markdown",
   "metadata": {},
   "source": [
    "## Preprocessing\n",
    "\n"
   ]
  },
  {
   "cell_type": "markdown",
   "metadata": {},
   "source": [
    "With no further do, let's have a look at the data."
   ]
  },
  {
   "cell_type": "markdown",
   "metadata": {},
   "source": [
    "### Required dependencies and downloads"
   ]
  },
  {
   "cell_type": "markdown",
   "metadata": {},
   "source": [
    "#### Installation of libraries and `ramp-workflow`\n",
    "\n",
    "To get this notebook running and test your models locally using the `ramp_test_submission`, we recommend that you use the Python distribution from [Anaconda](https://www.anaconda.com/download/) or [Miniconda](https://conda.io/miniconda.html). "
   ]
  },
  {
   "cell_type": "code",
   "execution_count": 3,
   "metadata": {},
   "outputs": [],
   "source": [
    "# !conda env create -f environment.yml   # use the environment.yml file to create the 'mars-craters' env\n",
    "# !source activate vertex_finding          # activate the virtual environment"
   ]
  },
  {
   "cell_type": "markdown",
   "metadata": {},
   "source": [
    "**OR** if you have Python already installed but are **not using Anaconda**, you'll want to use `pip` "
   ]
  },
  {
   "cell_type": "code",
   "execution_count": 4,
   "metadata": {},
   "outputs": [],
   "source": [
    "# !pip install -r requirements.txt"
   ]
  },
  {
   "cell_type": "markdown",
   "metadata": {},
   "source": [
    "#### Download script (optional)\n",
    "\n",
    "If the data has not yet been downloaded locally, uncomment the following cell and run it.\n",
    "\n",
    "There are ~700Mb of images."
   ]
  },
  {
   "cell_type": "code",
   "execution_count": 5,
   "metadata": {},
   "outputs": [],
   "source": [
    "# !python download_data.py"
   ]
  },
  {
   "cell_type": "markdown",
   "metadata": {},
   "source": [
    "#### The input data\n",
    "The input data consists of a json file for each event (where an event is a bunch crossing).\n",
    "The json file contains the hits in the Velo detector, Velo states from a simplified Kalman filter of the reconstructed Velo tracks, as well as the MC truth information."
   ]
  },
  {
   "cell_type": "code",
   "execution_count": 6,
   "metadata": {},
   "outputs": [],
   "source": [
    "import json\n",
    "from matplotlib import pyplot as plt\n",
    "from pprint import pprint"
   ]
  },
  {
   "cell_type": "code",
   "execution_count": 7,
   "metadata": {},
   "outputs": [
    {
     "name": "stdout",
     "output_type": "stream",
     "text": [
      "MCVertices\n",
      "EventNumber\n",
      "RunNumber\n",
      "MCParticles\n",
      "VPClusters\n",
      "VeloTracks\n"
     ]
    }
   ],
   "source": [
    "jdata = json.load(open('data/train/RapidVPData_6918078_578252.json'))\n",
    "for key in jdata:\n",
    "    print(key)"
   ]
  },
  {
   "cell_type": "markdown",
   "metadata": {},
   "source": [
    "We are interested in the reconstructed hits and tracks"
   ]
  },
  {
   "cell_type": "code",
   "execution_count": 8,
   "metadata": {},
   "outputs": [],
   "source": [
    "VeloTracks  = jdata['VeloTracks']\n",
    "VeloHits  = jdata['VPClusters']"
   ]
  },
  {
   "cell_type": "markdown",
   "metadata": {},
   "source": [
    "The hits are made of (x,y,z) coordinates:"
   ]
  },
  {
   "cell_type": "code",
   "execution_count": 9,
   "metadata": {},
   "outputs": [
    {
     "name": "stdout",
     "output_type": "stream",
     "text": [
      "{u'MCPs': [u'9386'],\n",
      " u'key': u'2147516400',\n",
      " u'x': 17.327651977539062,\n",
      " u'y': -25.745758056640625,\n",
      " u'z': -288.08099365234375}\n",
      "(17.327651977539062, -25.745758056640625, -288.08099365234375)\n"
     ]
    }
   ],
   "source": [
    "key = '2147516400'\n",
    "hit = VeloHits[key]\n",
    "pprint(hit)\n",
    "print (hit['x'], hit['y'], hit['z'])"
   ]
  },
  {
   "cell_type": "markdown",
   "metadata": {},
   "source": [
    "Velo tracks consist of states (x,y,z,tx,ty,p/q) and a covariance matrix"
   ]
  },
  {
   "cell_type": "code",
   "execution_count": 10,
   "metadata": {},
   "outputs": [
    {
     "name": "stdout",
     "output_type": "stream",
     "text": [
      "{u'ClosestToBeam': [-0.7562400893639847,\n",
      "                    -0.15443361936862843,\n",
      "                    -57.72109603881836,\n",
      "                    0.0027981847524642944,\n",
      "                    -0.009495257399976254,\n",
      "                    0.0],\n",
      " u'LHCbIDs': [u'2195200252', u'2197296116', u'2199392236', u'2201488356'],\n",
      " u'MCPs': [u'8482'],\n",
      " u'errCTBState': [0.019834144206224584,\n",
      "                  0.019834144206224584,\n",
      "                  3.97577828437079e-08,\n",
      "                  3.97577828437079e-08,\n",
      "                  -2.801031684519636e-05],\n",
      " u'isBackwards': False,\n",
      " u'key': u'0'}\n"
     ]
    }
   ],
   "source": [
    "track = VeloTracks['0']\n",
    "pprint(track)"
   ]
  },
  {
   "cell_type": "markdown",
   "metadata": {},
   "source": [
    "We can, for example, pltos the x-y distribution of all hits:"
   ]
  },
  {
   "cell_type": "code",
   "execution_count": 11,
   "metadata": {},
   "outputs": [
    {
     "data": {
      "text/plain": [
       "[<matplotlib.lines.Line2D at 0x7fc8c3248950>]"
      ]
     },
     "execution_count": 11,
     "metadata": {},
     "output_type": "execute_result"
    },
    {
     "data": {
      "image/png": "[encoded data removed]",
      "text/plain": [
       "<matplotlib.figure.Figure at 0x7fc8cf412a50>"
      ]
     },
     "metadata": {},
     "output_type": "display_data"
    }
   ],
   "source": [
    "hits_x = [item['x'] for  key, item in VeloHits.items()]\n",
    "hits_y = [item['y'] for  key, item in VeloHits.items()]\n",
    "plt.plot(hits_x,hits_y, 'o', markersize=1.)"
   ]
  },
  {
   "cell_type": "markdown",
   "metadata": {},
   "source": [
    "or z distribution"
   ]
  },
  {
   "cell_type": "code",
   "execution_count": 12,
   "metadata": {},
   "outputs": [
    {
     "data": {
      "text/plain": [
       "(array([637., 118., 368., 545., 529., 392., 127., 122., 175., 289.]),\n",
       " array([-288.08099365, -184.21479492,  -80.34859619,   23.51760254,\n",
       "         127.38380127,  231.25      ,  335.11619873,  438.98239746,\n",
       "         542.84859619,  646.71479492,  750.58099365]),\n",
       " <a list of 10 Patch objects>)"
      ]
     },
     "execution_count": 12,
     "metadata": {},
     "output_type": "execute_result"
    },
    {
     "data": {
      "image/png": "[encoded data removed]",
      "text/plain": [
       "<matplotlib.figure.Figure at 0x7fc8cf3fc110>"
      ]
     },
     "metadata": {},
     "output_type": "display_data"
    }
   ],
   "source": [
    "hits_z = [item['z'] for  key, item in VeloHits.items()]\n",
    "plt.hist(hits_z)"
   ]
  },
  {
   "cell_type": "markdown",
   "metadata": {},
   "source": [
    "The data is transformed from the json format to a (hopefully) more convenient form:"
   ]
  },
  {
   "cell_type": "code",
   "execution_count": 13,
   "metadata": {},
   "outputs": [],
   "source": [
    "import problem"
   ]
  },
  {
   "cell_type": "code",
   "execution_count": 14,
   "metadata": {},
   "outputs": [],
   "source": [
    "X, y = problem.get_train_data('.')"
   ]
  },
  {
   "cell_type": "markdown",
   "metadata": {},
   "source": [
    "X contains the training/test data, y the truth information."
   ]
  },
  {
   "cell_type": "code",
   "execution_count": 22,
   "metadata": {},
   "outputs": [
    {
     "data": {
      "text/plain": [
       "(4997,)"
      ]
     },
     "execution_count": 22,
     "metadata": {},
     "output_type": "execute_result"
    }
   ],
   "source": [
    "X.shape"
   ]
  },
  {
   "cell_type": "code",
   "execution_count": 23,
   "metadata": {},
   "outputs": [
    {
     "name": "stdout",
     "output_type": "stream",
     "text": [
      "[EventData EventData EventData ... EventData EventData EventData]\n"
     ]
    }
   ],
   "source": [
    "print(X)"
   ]
  },
  {
   "cell_type": "markdown",
   "metadata": {},
   "source": [
    "There are a couple of helper classes to organize the data.\n",
    "The test and train data X is a numpy array of object of type EventData. Let' have a closer look at this helper class:"
   ]
  },
  {
   "cell_type": "code",
   "execution_count": 24,
   "metadata": {},
   "outputs": [],
   "source": [
    "event = X[0]"
   ]
  },
  {
   "cell_type": "markdown",
   "metadata": {},
   "source": [
    "It contains the two members, hits and tracks, which are lists containing the Velo hits and states, respectively, again using helper classes:"
   ]
  },
  {
   "cell_type": "code",
   "execution_count": 25,
   "metadata": {},
   "outputs": [
    {
     "data": {
      "text/plain": [
       "[VeloHit(-0.853830337524, -13.164560318, -138.080993652),\n",
       " VeloHit(21.2538642883, 12.5635204315, 325.580993652),\n",
       " VeloHit(7.63557434082, -0.756603240967, 700.580993652),\n",
       " VeloHit(18.3759384155, -19.0936527252, -200.580993652),\n",
       " VeloHit(-15.1002645493, -30.2641716003, 238.080993652)]"
      ]
     },
     "execution_count": 25,
     "metadata": {},
     "output_type": "execute_result"
    }
   ],
   "source": [
    "event.hits[0:5]"
   ]
  },
  {
   "cell_type": "code",
   "execution_count": 26,
   "metadata": {},
   "outputs": [
    {
     "data": {
      "text/plain": [
       "[VeloState(-0.0370322333154,-0.0465060999728,-69.7914962769,-0.0489471331239,0.0375521630049),\n",
       " VeloState(0.0828115966481,0.138106270306,5.5852060318,-0.0756436511874,0.0397497005761),\n",
       " VeloState(0.0359277018182,0.0392959005628,5.69606018066,-0.0520540960133,0.0548235811293),\n",
       " VeloState(0.0619594416191,0.0650754783462,4.07017993927,-0.0426263771951,0.0352761521935),\n",
       " VeloState(-0.0535529908645,-0.0374068879655,4.25565099716,-0.0212026815861,0.0327544286847)]"
      ]
     },
     "execution_count": 26,
     "metadata": {},
     "output_type": "execute_result"
    }
   ],
   "source": [
    "event.tracks[0:5]"
   ]
  },
  {
   "cell_type": "markdown",
   "metadata": {},
   "source": [
    "The VeloHit class just holds the x,y,z coordinates of the hit:"
   ]
  },
  {
   "cell_type": "code",
   "execution_count": 27,
   "metadata": {},
   "outputs": [
    {
     "name": "stdout",
     "output_type": "stream",
     "text": [
      "VeloHit(-0.853830337524, -13.164560318, -138.080993652)\n",
      "(-0.8538303375244141, -13.164560317993164, -138.08099365234375)\n"
     ]
    }
   ],
   "source": [
    "hit = event.hits[0]\n",
    "print (hit)\n",
    "print(hit.x, hit.y, hit.z)"
   ]
  },
  {
   "cell_type": "markdown",
   "metadata": {},
   "source": [
    "The VeloTrack helper class holds the state (x,y,z,tx,ty,p/q) of a simplified Kalman fit of the track, as well as the corresponding covariance matrix:"
   ]
  },
  {
   "cell_type": "code",
   "execution_count": 28,
   "metadata": {},
   "outputs": [
    {
     "name": "stdout",
     "output_type": "stream",
     "text": [
      "VeloState(-0.0370322333154,-0.0465060999728,-69.7914962769,-0.0489471331239,0.0375521630049)\n",
      "track state:\n",
      "('x:', -0.03703223331541494)\n",
      "('y:', -0.04650609997281663)\n",
      "('z:', -69.79149627685547)\n",
      "('tx:', -0.048947133123874664)\n",
      "('ty:', 0.03755216300487518)\n",
      "('pq:', 0.0)\n",
      "covariance matrix:\n",
      "('cov x:', 0.0033649414069035753)\n",
      "('cov y:', 0.0033649414069035753)\n",
      "('cov tx:', 1.390033901316201e-07)\n",
      "('cov ty:', 1.390033901316201e-07)\n",
      "('cov xtx:', 2.1295523651936e-05)\n"
     ]
    }
   ],
   "source": [
    "track = event.tracks[0]\n",
    "print(track)\n",
    "print(\"track state:\")\n",
    "print(\"x:\", track.x)\n",
    "print(\"y:\", track.y)\n",
    "print(\"z:\", track.z)\n",
    "print(\"tx:\", track.tx)\n",
    "print(\"ty:\", track.ty)\n",
    "print(\"pq:\", track.pq)\n",
    "\n",
    "print(\"covariance matrix:\")\n",
    "print(\"cov x:\", track.cov_x)\n",
    "print(\"cov y:\", track.cov_y)\n",
    "print(\"cov tx:\", track.cov_tx)\n",
    "print(\"cov ty:\", track.cov_ty)\n",
    "print(\"cov xtx:\", track.cov_xtx)\n",
    "\n"
   ]
  },
  {
   "cell_type": "markdown",
   "metadata": {},
   "source": [
    "It should be noted that the p/q is always zero, since we have no momentum estimate from the Velo Kalman fit.\n",
    "The covariance matrix consist of the diagonal elements x, y, tx, ty and the off-diagonal element xtx. The Velo Kalman fit contains some simplifications, resulting that the covariance element for x and y is always equal. The same is true for the xtx and yty elements"
   ]
  },
  {
   "cell_type": "markdown",
   "metadata": {},
   "source": [
    "Again, we can make plots:"
   ]
  },
  {
   "cell_type": "code",
   "execution_count": 29,
   "metadata": {},
   "outputs": [],
   "source": [
    "hits_x = [hit.x for hit in event.hits]\n",
    "hits_y = [hit.y for hit in event.hits]\n",
    "hits_z = [hit.z for hit in event.hits]"
   ]
  },
  {
   "cell_type": "code",
   "execution_count": 30,
   "metadata": {},
   "outputs": [
    {
     "data": {
      "text/plain": [
       "[<matplotlib.lines.Line2D at 0x7fc7cae651d0>]"
      ]
     },
     "execution_count": 30,
     "metadata": {},
     "output_type": "execute_result"
    },
    {
     "data": {
      "image/png": "[encoded data removed]",
      "text/plain": [
       "<matplotlib.figure.Figure at 0x7fc8b52814d0>"
      ]
     },
     "metadata": {},
     "output_type": "display_data"
    }
   ],
   "source": [
    "plt.plot(hits_x, hits_y, 'o')"
   ]
  },
  {
   "cell_type": "code",
   "execution_count": 31,
   "metadata": {},
   "outputs": [
    {
     "data": {
      "text/plain": [
       "(array([370.,  73., 263., 373., 322., 267.,  86.,  88., 139., 226.]),\n",
       " array([-288.08099365, -184.21479492,  -80.34859619,   23.51760254,\n",
       "         127.38380127,  231.25      ,  335.11619873,  438.98239746,\n",
       "         542.84859619,  646.71479492,  750.58099365]),\n",
       " <a list of 10 Patch objects>)"
      ]
     },
     "execution_count": 31,
     "metadata": {},
     "output_type": "execute_result"
    },
    {
     "data": {
      "image/png": "[encoded data removed]",
      "text/plain": [
       "<matplotlib.figure.Figure at 0x7fc8b5281750>"
      ]
     },
     "metadata": {},
     "output_type": "display_data"
    }
   ],
   "source": [
    "plt.hist(hits_z)"
   ]
  },
  {
   "cell_type": "markdown",
   "metadata": {},
   "source": [
    "The MC truth PVs are saved in the following format: A numpy array containing a list for each event, where a lists contains all MC vertices of that event"
   ]
  },
  {
   "cell_type": "code",
   "execution_count": 39,
   "metadata": {},
   "outputs": [
    {
     "data": {
      "text/plain": [
       "(4997,)"
      ]
     },
     "execution_count": 39,
     "metadata": {},
     "output_type": "execute_result"
    }
   ],
   "source": [
    "y.shape\n"
   ]
  },
  {
   "cell_type": "code",
   "execution_count": 40,
   "metadata": {},
   "outputs": [
    {
     "data": {
      "text/plain": [
       "[MCVertex, MCVertex, MCVertex, MCVertex, MCVertex, MCVertex, MCVertex]"
      ]
     },
     "execution_count": 40,
     "metadata": {},
     "output_type": "execute_result"
    }
   ],
   "source": [
    "y[0]"
   ]
  },
  {
   "cell_type": "code",
   "execution_count": 41,
   "metadata": {},
   "outputs": [],
   "source": [
    "mcvertex = y[0][0]"
   ]
  },
  {
   "cell_type": "markdown",
   "metadata": {},
   "source": [
    "The MC vertex consists of its (x,y,z)-position and the number of tracks originating from it, which leave hits in the Velo"
   ]
  },
  {
   "cell_type": "code",
   "execution_count": 46,
   "metadata": {},
   "outputs": [
    {
     "name": "stdout",
     "output_type": "stream",
     "text": [
      "MC vertex x:  -0.004\n",
      "MC vertex y:  -0.0131\n",
      "MC vertex z:  -69.1437\n",
      "MC vertex number of Velo tracks:  6\n"
     ]
    }
   ],
   "source": [
    "print \"MC vertex x: \", mcvertex.x\n",
    "print \"MC vertex y: \", mcvertex.y\n",
    "print \"MC vertex z: \", mcvertex.z\n",
    "print \"MC vertex number of Velo tracks: \", mcvertex.numberTracks"
   ]
  }
 ],
 "metadata": {
  "anaconda-cloud": {},
  "kernelspec": {
   "display_name": "Python 2",
   "language": "python",
   "name": "python2"
  },
  "language_info": {
   "codemirror_mode": {
    "name": "ipython",
    "version": 2
   },
   "file_extension": ".py",
   "mimetype": "text/x-python",
   "name": "python",
   "nbconvert_exporter": "python",
   "pygments_lexer": "ipython2",
   "version": "2.7.15"
  },
  "nav_menu": {},
  "toc": {
   "navigate_menu": true,
   "number_sections": true,
   "sideBar": true,
   "threshold": 6,
   "toc_cell": false,
   "toc_section_display": "block",
   "toc_window_display": false
  }
 },
 "nbformat": 4,
 "nbformat_minor": 1
}
