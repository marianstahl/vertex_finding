{
 "cells": [
  {
   "cell_type": "markdown",
   "metadata": {},
   "source": [
    "\n",
    "[RAPID2018](https://rapid2018.org/)\n",
    "\n",
    "\n",
    "# [RAMP](https://www.ramp.studio/problems/mars_craters) on Primary Vertex reconstruction\n",
    "\n"
   ]
  },
  {
   "cell_type": "markdown",
   "metadata": {},
   "source": [
    "1. [Introduction](#Introduction)\n",
    "2. [Preprocessing](#Preprocessing)\n",
    "3. [Workflow](#Workflow)\n",
    "4. [Evaluation](#Scoring)\n",
    "5. [Local testing/exploration](#Local-testing)\n",
    "6. [Submission](#Submitting-to-ramp.studio)"
   ]
  },
  {
   "cell_type": "markdown",
   "metadata": {},
   "source": [
    "## Introduction\n"
   ]
  },
  {
   "cell_type": "markdown",
   "metadata": {},
   "source": [
    "### The prediction task\n",
    "\n"
   ]
  },
  {
   "cell_type": "markdown",
   "metadata": {},
   "source": [
    "### References\n",
    "\n"
   ]
  },
  {
   "cell_type": "markdown",
   "metadata": {},
   "source": [
    "## Preprocessing\n",
    "\n"
   ]
  },
  {
   "cell_type": "markdown",
   "metadata": {},
   "source": [
    "With no further do, let's have a look at the data."
   ]
  },
  {
   "cell_type": "markdown",
   "metadata": {},
   "source": [
    "### Required dependencies and downloads"
   ]
  },
  {
   "cell_type": "markdown",
   "metadata": {},
   "source": [
    "#### Installation of libraries and `ramp-workflow`\n",
    "\n",
    "To get this notebook running and test your models locally using the `ramp_test_submission`, we recommend that you use the Python distribution from [Anaconda](https://www.anaconda.com/download/) or [Miniconda](https://conda.io/miniconda.html). "
   ]
  },
  {
   "cell_type": "code",
   "execution_count": 121,
   "metadata": {},
   "outputs": [],
   "source": [
    "# !conda env create -f environment.yml   # use the environment.yml file to create the 'mars-craters' env\n",
    "# !source activate mars-craters          # activate the virtual environment"
   ]
  },
  {
   "cell_type": "markdown",
   "metadata": {},
   "source": [
    "**OR** if you have Python already installed but are **not using Anaconda**, you'll want to use `pip` "
   ]
  },
  {
   "cell_type": "code",
   "execution_count": 122,
   "metadata": {},
   "outputs": [],
   "source": [
    "# !pip install -r requirements.txt"
   ]
  },
  {
   "cell_type": "markdown",
   "metadata": {},
   "source": [
    "#### Download script (optional)\n",
    "\n",
    "If the data has not yet been downloaded locally, uncomment the following cell and run it.\n",
    "\n",
    "There are ~700Mb of images."
   ]
  },
  {
   "cell_type": "code",
   "execution_count": 123,
   "metadata": {},
   "outputs": [],
   "source": [
    "# !python download_data.py"
   ]
  },
  {
   "cell_type": "markdown",
   "metadata": {},
   "source": [
    "#### The input data\n",
    "The input data consists of a json file for each event (where an event is a bunch crossing).\n",
    "The json file contains the hits in the Velo detector, Velo states from a simplified Kalman filter of the reconstructed Velo tracks, as well as the MC truth information."
   ]
  },
  {
   "cell_type": "code",
   "execution_count": 124,
   "metadata": {},
   "outputs": [],
   "source": [
    "import json\n",
    "from matplotlib import pyplot as plt\n",
    "from pprint import pprint"
   ]
  },
  {
   "cell_type": "code",
   "execution_count": 125,
   "metadata": {},
   "outputs": [
    {
     "name": "stdout",
     "output_type": "stream",
     "text": [
      "EventNumber\n",
      "MCParticles\n",
      "MCVertices\n",
      "RunNumber\n",
      "VPClusters\n",
      "VeloTracks\n"
     ]
    }
   ],
   "source": [
    "jdata = json.load(open('data/train/RapidVPData_6719289_74665.json'))\n",
    "for key in jdata:\n",
    "    print(key)"
   ]
  },
  {
   "cell_type": "markdown",
   "metadata": {},
   "source": [
    "We are interested in the reconstructed hits and tracks"
   ]
  },
  {
   "cell_type": "code",
   "execution_count": 126,
   "metadata": {},
   "outputs": [],
   "source": [
    "VeloTracks  = jdata['VeloTracks']\n",
    "VeloHits  = jdata['VPClusters']"
   ]
  },
  {
   "cell_type": "markdown",
   "metadata": {},
   "source": [
    "The hits are made of (x,y,z) coordinates:"
   ]
  },
  {
   "cell_type": "code",
   "execution_count": 127,
   "metadata": {},
   "outputs": [
    {
     "name": "stdout",
     "output_type": "stream",
     "text": [
      "{'MCPs': ['3602'],\n",
      " 'key': '2201901426',\n",
      " 'x': 21.856674194335938,\n",
      " 'y': -16.118497848510742,\n",
      " 'z': 749.4190063476562}\n",
      "21.856674194335938 -16.118497848510742 749.4190063476562\n"
     ]
    }
   ],
   "source": [
    "key = '2201901426'\n",
    "hit = VeloHits[key]\n",
    "pprint(hit)\n",
    "print (hit['x'], hit['y'], hit['z'])"
   ]
  },
  {
   "cell_type": "markdown",
   "metadata": {},
   "source": [
    "Velo tracks consist of states (x,y,z,tx,ty,p/q) and a covariance matrix"
   ]
  },
  {
   "cell_type": "code",
   "execution_count": 128,
   "metadata": {},
   "outputs": [
    {
     "name": "stdout",
     "output_type": "stream",
     "text": [
      "{'ClosestToBeam': [0.004886898594421041,\n",
      "                   0.003085980878339001,\n",
      "                   56.206748962402344,\n",
      "                   0.011977268382906914,\n",
      "                   -0.01913546212017536,\n",
      "                   0.0],\n",
      " 'LHCbIDs': ['2148023507', '2150121437', '2152219111', '2154316785'],\n",
      " 'MCPs': ['2910'],\n",
      " 'errCTBState': [0.009285581751691809,\n",
      "                 0.009285581751691809,\n",
      "                 1.0332852440342322e-07,\n",
      "                 1.0332852440342322e-07,\n",
      "                 3.0836403897841565e-05],\n",
      " 'isBackwards': True,\n",
      " 'key': '0'}\n"
     ]
    }
   ],
   "source": [
    "track = VeloTracks['0']\n",
    "pprint(track)"
   ]
  },
  {
   "cell_type": "markdown",
   "metadata": {},
   "source": [
    "We can, for example, pltos the x-y distribution of all hits:"
   ]
  },
  {
   "cell_type": "code",
   "execution_count": 129,
   "metadata": {},
   "outputs": [
    {
     "data": {
      "text/plain": [
       "[<matplotlib.lines.Line2D at 0x7faea023eda0>]"
      ]
     },
     "execution_count": 129,
     "metadata": {},
     "output_type": "execute_result"
    },
    {
     "data": {
      "image/png": "[encoded data removed]",
      "text/plain": [
       "<Figure size 432x288 with 1 Axes>"
      ]
     },
     "metadata": {},
     "output_type": "display_data"
    }
   ],
   "source": [
    "hits_x = [item['x'] for  key, item in VeloHits.items()]\n",
    "hits_y = [item['y'] for  key, item in VeloHits.items()]\n",
    "plt.plot(hits_x,hits_y, 'o', markersize=1.)"
   ]
  },
  {
   "cell_type": "markdown",
   "metadata": {},
   "source": [
    "or z distribution"
   ]
  },
  {
   "cell_type": "code",
   "execution_count": 130,
   "metadata": {},
   "outputs": [
    {
     "data": {
      "text/plain": [
       "(array([308.,  74., 231., 397., 375., 261.,  79.,  73., 117., 189.]),\n",
       " array([-288.08099365, -184.21479492,  -80.34859619,   23.51760254,\n",
       "         127.38380127,  231.25      ,  335.11619873,  438.98239746,\n",
       "         542.84859619,  646.71479492,  750.58099365]),\n",
       " <a list of 10 Patch objects>)"
      ]
     },
     "execution_count": 130,
     "metadata": {},
     "output_type": "execute_result"
    },
    {
     "data": {
      "image/png": "[encoded data removed]",
      "text/plain": [
       "<Figure size 432x288 with 1 Axes>"
      ]
     },
     "metadata": {},
     "output_type": "display_data"
    }
   ],
   "source": [
    "hits_z = [item['z'] for  key, item in VeloHits.items()]\n",
    "plt.hist(hits_z)"
   ]
  },
  {
   "cell_type": "markdown",
   "metadata": {},
   "source": [
    "The data is transformed from the json format to a (hopefully) more convenient form:"
   ]
  },
  {
   "cell_type": "code",
   "execution_count": 131,
   "metadata": {},
   "outputs": [],
   "source": [
    "import problem"
   ]
  },
  {
   "cell_type": "code",
   "execution_count": 132,
   "metadata": {},
   "outputs": [
    {
     "name": "stdout",
     "output_type": "stream",
     "text": [
      "Rec data\n"
     ]
    }
   ],
   "source": [
    "X, y = problem.get_train_data('.')"
   ]
  },
  {
   "cell_type": "markdown",
   "metadata": {},
   "source": [
    "X contains the training/test data, y the truth information."
   ]
  },
  {
   "cell_type": "code",
   "execution_count": 133,
   "metadata": {},
   "outputs": [
    {
     "data": {
      "text/plain": [
       "(6,)"
      ]
     },
     "execution_count": 133,
     "metadata": {},
     "output_type": "execute_result"
    }
   ],
   "source": [
    "X.shape"
   ]
  },
  {
   "cell_type": "code",
   "execution_count": 134,
   "metadata": {},
   "outputs": [
    {
     "name": "stdout",
     "output_type": "stream",
     "text": [
      "[EventData EventData EventData EventData EventData EventData]\n"
     ]
    }
   ],
   "source": [
    "print(X)"
   ]
  },
  {
   "cell_type": "markdown",
   "metadata": {},
   "source": [
    "There are a couple of helper classes to organize the data.\n",
    "The test and train data X is a numpy array of object of type EventData. Let' have a closer look at this helper class:"
   ]
  },
  {
   "cell_type": "code",
   "execution_count": 135,
   "metadata": {},
   "outputs": [],
   "source": [
    "event = X[0]"
   ]
  },
  {
   "cell_type": "markdown",
   "metadata": {},
   "source": [
    "It contains the two members, hits and tracks, which are lists containing the Velo hits and states, respectively, again using helper classes:"
   ]
  },
  {
   "cell_type": "code",
   "execution_count": 136,
   "metadata": {},
   "outputs": [
    {
     "data": {
      "text/plain": [
       "[VeloHit(9.393913269042969, -26.134666442871094, -288.08099365234375),\n",
       " VeloHit(9.0050048828125, -24.579030990600586, -288.08099365234375),\n",
       " VeloHit(-0.38714027404785156, -14.097940444946289, -288.08099365234375),\n",
       " VeloHit(-0.38714027404785156, -13.514577865600586, -288.08099365234375),\n",
       " VeloHit(-7.1735992431640625, -16.59343719482422, -288.08099365234375)]"
      ]
     },
     "execution_count": 136,
     "metadata": {},
     "output_type": "execute_result"
    }
   ],
   "source": [
    "event.hits[0:5]"
   ]
  },
  {
   "cell_type": "code",
   "execution_count": 137,
   "metadata": {},
   "outputs": [
    {
     "data": {
      "text/plain": [
       "[VeloState(-0.014058536488221307,-0.024329251519816353,-20.015792846679688,0.0337035171687603,-0.04416502267122269),\n",
       " VeloState(0.04143393940914564,0.03616156003867843,155.3652801513672,0.01934237591922283,-0.017269106581807137),\n",
       " VeloState(0.5647286828943905,-0.37778717743778856,92.0198745727539,0.009444397874176502,0.01475947443395853),\n",
       " VeloState(-0.01761487652828464,0.013645172620613266,67.32335662841797,-0.09499440342187881,0.05916781723499298),\n",
       " VeloState(-0.04450437906444904,0.007529980805301761,-21.103111267089844,0.09429869055747986,-0.06211370974779129)]"
      ]
     },
     "execution_count": 137,
     "metadata": {},
     "output_type": "execute_result"
    }
   ],
   "source": [
    "event.tracks[0:5]"
   ]
  },
  {
   "cell_type": "markdown",
   "metadata": {},
   "source": [
    "The VeloHit class just holds the x,y,z coordinates of the hit:"
   ]
  },
  {
   "cell_type": "code",
   "execution_count": 138,
   "metadata": {},
   "outputs": [
    {
     "name": "stdout",
     "output_type": "stream",
     "text": [
      "VeloHit(9.393913269042969, -26.134666442871094, -288.08099365234375)\n",
      "9.393913269042969 -26.134666442871094 -288.08099365234375\n"
     ]
    }
   ],
   "source": [
    "hit = event.hits[0]\n",
    "print (hit)\n",
    "print(hit.x, hit.y, hit.z)"
   ]
  },
  {
   "cell_type": "markdown",
   "metadata": {},
   "source": [
    "The VeloTrack helper class holds the state (x,y,z,tx,ty,p/q) of a simplified Kalman fit of the track, as well as the corresponding covariance matrix:"
   ]
  },
  {
   "cell_type": "code",
   "execution_count": 139,
   "metadata": {},
   "outputs": [
    {
     "name": "stdout",
     "output_type": "stream",
     "text": [
      "VeloState(-0.014058536488221307,-0.024329251519816353,-20.015792846679688,0.0337035171687603,-0.04416502267122269)\n",
      "track state:\n",
      "x: -0.014058536488221307\n",
      "y: -0.024329251519816353\n",
      "z: -20.015792846679688\n",
      "tx: 0.0337035171687603\n",
      "ty: -0.04416502267122269\n",
      "pq: 0.0\n",
      "covariance matrix:\n",
      "cov x: 0.00149062710342775\n",
      "cov y: 0.00149062710342775\n",
      "cov tx: 5.936173863574368e-08\n",
      "cov ty: 5.936173863574368e-08\n",
      "cov xtx: 8.931202236391695e-06\n"
     ]
    }
   ],
   "source": [
    "track = event.tracks[0]\n",
    "print(track)\n",
    "print(\"track state:\")\n",
    "print(\"x:\", track.x)\n",
    "print(\"y:\", track.y)\n",
    "print(\"z:\", track.z)\n",
    "print(\"tx:\", track.tx)\n",
    "print(\"ty:\", track.ty)\n",
    "print(\"pq:\", track.pq)\n",
    "\n",
    "print(\"covariance matrix:\")\n",
    "print(\"cov x:\", track.cov_x)\n",
    "print(\"cov y:\", track.cov_y)\n",
    "print(\"cov tx:\", track.cov_tx)\n",
    "print(\"cov ty:\", track.cov_ty)\n",
    "print(\"cov xtx:\", track.cov_xtx)\n",
    "\n"
   ]
  },
  {
   "cell_type": "markdown",
   "metadata": {},
   "source": [
    "It should be noted that the p/q is always zero, since we have no momentum estimate from the Velo Kalman fit.\n",
    "The covariance matrix consist of the diagonal elements x, y, tx, ty and the off-diagonal element xtx. The Velo Kalman fit contains some simplifications, resulting that the covariance element for x and y is always equal. The same is true for the xtx and yty elements"
   ]
  },
  {
   "cell_type": "markdown",
   "metadata": {},
   "source": [
    "Again, we can make plots:"
   ]
  },
  {
   "cell_type": "code",
   "execution_count": 140,
   "metadata": {},
   "outputs": [],
   "source": [
    "hits_x = [hit.x for hit in event.hits]\n",
    "hits_y = [hit.y for hit in event.hits]\n",
    "hits_z = [hit.z for hit in event.hits]"
   ]
  },
  {
   "cell_type": "code",
   "execution_count": 141,
   "metadata": {},
   "outputs": [
    {
     "data": {
      "text/plain": [
       "[<matplotlib.lines.Line2D at 0x7fae9d50def0>]"
      ]
     },
     "execution_count": 141,
     "metadata": {},
     "output_type": "execute_result"
    },
    {
     "data": {
      "image/png": "[encoded data removed]",
      "text/plain": [
       "<Figure size 432x288 with 1 Axes>"
      ]
     },
     "metadata": {},
     "output_type": "display_data"
    }
   ],
   "source": [
    "plt.plot(hits_x, hits_y, 'o')"
   ]
  },
  {
   "cell_type": "code",
   "execution_count": 142,
   "metadata": {},
   "outputs": [
    {
     "data": {
      "text/plain": [
       "(array([188.,  38., 125., 186., 201., 174.,  51.,  52.,  83., 114.]),\n",
       " array([-288.08099365, -184.21479492,  -80.34859619,   23.51760254,\n",
       "         127.38380127,  231.25      ,  335.11619873,  438.98239746,\n",
       "         542.84859619,  646.71479492,  750.58099365]),\n",
       " <a list of 10 Patch objects>)"
      ]
     },
     "execution_count": 142,
     "metadata": {},
     "output_type": "execute_result"
    },
    {
     "data": {
      "image/png": "[encoded data removed]",
      "text/plain": [
       "<Figure size 432x288 with 1 Axes>"
      ]
     },
     "metadata": {},
     "output_type": "display_data"
    }
   ],
   "source": [
    "plt.hist(hits_z)"
   ]
  }
 ],
 "metadata": {
  "anaconda-cloud": {},
  "kernelspec": {
   "display_name": "Python 3",
   "language": "python",
   "name": "python3"
  },
  "language_info": {
   "codemirror_mode": {
    "name": "ipython",
    "version": 3
   },
   "file_extension": ".py",
   "mimetype": "text/x-python",
   "name": "python",
   "nbconvert_exporter": "python",
   "pygments_lexer": "ipython3",
   "version": "3.6.6"
  },
  "nav_menu": {},
  "toc": {
   "navigate_menu": true,
   "number_sections": true,
   "sideBar": true,
   "threshold": 6,
   "toc_cell": false,
   "toc_section_display": "block",
   "toc_window_display": false
  }
 },
 "nbformat": 4,
 "nbformat_minor": 1
}
